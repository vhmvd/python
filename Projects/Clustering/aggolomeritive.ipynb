{
 "metadata": {
  "language_info": {
   "codemirror_mode": {
    "name": "ipython",
    "version": 3
   },
   "file_extension": ".py",
   "mimetype": "text/x-python",
   "name": "python",
   "nbconvert_exporter": "python",
   "pygments_lexer": "ipython3",
   "version": "3.9.2"
  },
  "orig_nbformat": 2,
  "kernelspec": {
   "name": "python392jvsc74a57bd063fd5069d213b44bf678585dea6b12cceca9941eaf7f819626cde1f2670de90d",
   "display_name": "Python 3.9.2 64-bit"
  },
  "metadata": {
   "interpreter": {
    "hash": "63fd5069d213b44bf678585dea6b12cceca9941eaf7f819626cde1f2670de90d"
   }
  }
 },
 "nbformat": 4,
 "nbformat_minor": 2,
 "cells": [
  {
   "source": [
    "# Imports"
   ],
   "cell_type": "markdown",
   "metadata": {}
  },
  {
   "cell_type": "code",
   "execution_count": null,
   "metadata": {},
   "outputs": [],
   "source": [
    "import pandas as pd\n",
    "import numpy as np\n",
    "import seaborn as sns\n",
    "from matplotlib import pyplot as plt\n",
    "from math import sqrt"
   ]
  },
  {
   "source": [
    "# Reading data into pandas dataframe"
   ],
   "cell_type": "markdown",
   "metadata": {}
  },
  {
   "cell_type": "code",
   "execution_count": null,
   "metadata": {},
   "outputs": [],
   "source": [
    "iris = pd.read_csv(\"data/iris/iris.data\")"
   ]
  },
  {
   "source": [
    "# Display of data"
   ],
   "cell_type": "markdown",
   "metadata": {}
  },
  {
   "cell_type": "code",
   "execution_count": null,
   "metadata": {},
   "outputs": [],
   "source": [
    "iris"
   ]
  },
  {
   "source": [
    "# Plotting data to find correlation"
   ],
   "cell_type": "markdown",
   "metadata": {}
  },
  {
   "cell_type": "code",
   "execution_count": null,
   "metadata": {},
   "outputs": [],
   "source": [
    "sns.pairplot(iris)"
   ]
  },
  {
   "source": [
    "# Petal width and legth has a good co relation"
   ],
   "cell_type": "markdown",
   "metadata": {}
  },
  {
   "cell_type": "code",
   "execution_count": null,
   "metadata": {},
   "outputs": [],
   "source": [
    "iris_data = iris[[\"petal_length\", \"petal_width\"]]"
   ]
  },
  {
   "cell_type": "code",
   "execution_count": null,
   "metadata": {},
   "outputs": [],
   "source": [
    "sns.scatterplot(x=\"petal_length\", y=\"petal_width\", data=iris_data)"
   ]
  },
  {
   "cell_type": "code",
   "execution_count": null,
   "metadata": {},
   "outputs": [],
   "source": [
    "iris_np = np.array(iris)"
   ]
  },
  {
   "cell_type": "code",
   "execution_count": null,
   "metadata": {},
   "outputs": [],
   "source": [
    "iris_np"
   ]
  },
  {
   "source": [
    "# Eculedian distance is used to calculate shortest distance as it has higher acuracy value"
   ],
   "cell_type": "markdown",
   "metadata": {}
  },
  {
   "cell_type": "code",
   "execution_count": null,
   "metadata": {},
   "outputs": [],
   "source": [
    "def eculedian_distance(a, c, b, d):\n",
    "    return sqrt((a-c)**2+(b-d)**2)"
   ]
  },
  {
   "cell_type": "code",
   "execution_count": null,
   "metadata": {},
   "outputs": [],
   "source": [
    "def agg_cluster(data, cutoff, linkage):\n",
    "    if data == 0:\n",
    "        return\n",
    "    distance_matrix = euclidean_distances(data, data)\n",
    "    distance_matrix = np.tril(distance_matrix)\n",
    "    distance_matrix[distance_matrix == 0] = np.inf\n",
    "    df = pd.DataFrame(data=np.ones(data.shape[0])*np.inf)\n",
    "    if cutoff > distance_matrix.shape[0]: \n",
    "        cutoff = distance_matrix.shape[0]\n",
    "    if linkage == 1:\n",
    "        d = {}\n",
    "        for i in range(0,cutoff):\n",
    "            ij_min = np.unravel_index(distance_matrix.argmin(), distance_matrix.shape)\n",
    "            if i == 0:\n",
    "                df.iloc[ij_min[0]] = 0\n",
    "                df.iloc[ij_min[1]] = 0\n",
    "            else:\n",
    "                try:\n",
    "                    a = int(df.iloc[ij_min[0]])\n",
    "                except:\n",
    "                    df.iloc[ij_min[0]] = i\n",
    "                    a = i\n",
    "                try:\n",
    "                    b = int(df.iloc[ij_min[1]])\n",
    "                except:\n",
    "                    df.iloc[ij_min[1]] = i\n",
    "                    b = i\n",
    "                df[(df[0]==a) | (df[0]==b)] = i\n",
    "            d[i] = ij_min\n",
    "            for j in range(0, ij_min[0]):\n",
    "                if np.isfinite(distance_matrix[ij_min[0]][j]) and np.isfinite(distance_matrix[ij_min[1]][j]):\n",
    "                    distance_matrix[ij_min[1]][j] = min(distance_matrix[ij_min[0]][j], distance_matrix[ij_min[1]][j])\n",
    "            distance_matrix[ij_min[0]] = np.inf\n",
    "        return d, df[0].as_matrix()\n",
    "    elif linkage == 2:\n",
    "        d_complete = {}\n",
    "        for i in range(0,cutoff):\n",
    "            ij_min = np.unravel_index(distance_matrix.argmin(), distance_matrix.shape)\n",
    "            if i == 0:\n",
    "                df.iloc[ij_min[0]] = 0\n",
    "                df.iloc[ij_min[1]] = 0\n",
    "            else:\n",
    "                try:\n",
    "                    a = int(df.iloc[ij_min[0]])\n",
    "                except:\n",
    "                    df.iloc[ij_min[0]] = i\n",
    "                    a = i\n",
    "                try:\n",
    "                    b = int(df.iloc[ij_min[1]])\n",
    "                except:\n",
    "                    df.iloc[ij_min[1]] = i\n",
    "                    b = i\n",
    "                df[(df[0]==a) | (df[0]==b)] = i\n",
    "            d_complete[i] = ij_min\n",
    "            for j in range(0, ij_min[0]):\n",
    "                if np.isfinite(distance_matrix[ij_min[0]][j]) and np.isfinite(distance_matrix[ij_min[1]][j]):\n",
    "                    distance_matrix[ij_min[1]][j] = max(distance_matrix[ij_min[0]][j], distance_matrix[ij_min[1]][j])\n",
    "            distance_matrix[ij_min[0]] = np.inf\n",
    "        return d_complete, df[0].as_matrix()\n",
    "    elif linkage == 3:\n",
    "        d_average = {}\n",
    "        for i in range(0,cutoff):\n",
    "            ij_min = np.unravel_index(distance_matrix.argmin(), distance_matrix.shape)\n",
    "            if i == 0:\n",
    "                df.iloc[ij_min[0]] = 0\n",
    "                df.iloc[ij_min[1]] = 0\n",
    "            else:\n",
    "                try:\n",
    "                    a = int(df.iloc[ij_min[0]])\n",
    "                except:\n",
    "                    df.iloc[ij_min[0]] = i\n",
    "                    a = i\n",
    "                try:\n",
    "                    b = int(df.iloc[ij_min[1]])\n",
    "                except:\n",
    "                    df.iloc[ij_min[1]] = i\n",
    "                    b = i\n",
    "                df[(df[0]==a) | (df[0]==b)] = i\n",
    "            d_average[i] = ij_min\n",
    "            for j in range(0, ij_min[0]):\n",
    "                if np.isfinite(distance_matrix[ij_min[0]][j]) and np.isfinite(distance_matrix[ij_min[1]][j]):\n",
    "                    distance_matrix[ij_min[1]][j] = (distance_matrix[ij_min[0]][j] + distance_matrix[ij_min[1]][j])/2.0          \n",
    "            distance_matrix[ij_min[0]] = np.inf\n",
    "        return d_average, df[0].as_matrix()"
   ]
  },
  {
   "source": [
    "# After clustering"
   ],
   "cell_type": "markdown",
   "metadata": {}
  },
  {
   "cell_type": "code",
   "execution_count": null,
   "metadata": {},
   "outputs": [],
   "source": [
    "count = 0\n",
    "for itr in iris_np:\n",
    "    agg_cluster(0,itr[2], itr[3])\n",
    "    if count<50:\n",
    "        dist = eculedian_distance(itr[2], itr[3], itr[2], itr[3])\n",
    "        plt.scatter(itr[2], itr[3], color=\"red\", label = 'Iris-setosa')\n",
    "    elif count<100:\n",
    "        dist = eculedian_distance(itr[2], itr[3], itr[2], itr[3])\n",
    "        plt.scatter(itr[2], itr[3], color=\"green\", label = 'Iris-versicolor')\n",
    "    else:\n",
    "        dist = eculedian_distance(itr[2], itr[3], itr[2], itr[3])\n",
    "        plt.scatter(itr[2], itr[3], color=\"blue\", label= 'Iris-virginica')\n",
    "    count = count + 1"
   ]
  }
 ]
}